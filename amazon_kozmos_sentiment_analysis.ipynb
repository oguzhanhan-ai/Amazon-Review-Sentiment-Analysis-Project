{
 "cells": [
  {
   "cell_type": "markdown",
   "id": "cc45509d",
   "metadata": {},
   "source": [
    "### KOZMOS - Amazon Yorumları için Duygu Analizi\n",
    "\n",
    "**İş Problemi**\n",
    "\n",
    "Amazon üzerinden satışlarını gerçekleştiren ev tekstili ve günlük giyim odaklı üretimler yapan **Kozmos**, ürünlerine gelen yorumları analiz ederek ve aldığı şikayetlere göre özelliklerini geliştirerek satışlarını artırmayı hedeflemektedir. Bu hedef doğrultusunda yorumlara duygu analizi yapılarak etiketlenecek ve etiketlenen veri ile sınıflandırma modeli oluşturulacaktır.\n",
    "\n",
    "**Veri Seti Hikayesi**\n",
    "\n",
    "Veri seti belirli bir ürün grubuna ait yapılan yorumları, yorum başlığını, yıldız sayısını, ve yapılan yorumu kaç kişinin faydalı bulduğunu belirten değişkenlerden oluşmaktadır.\n",
    "\n",
    "**Değişkenler**\n",
    "\n",
    "**Star:** Ürüne verilen yıldız sayısı\n",
    "\n",
    "**Helpful:** Yorumu faydalı bulan kişi sayısı\n",
    "\n",
    "**Title:** Yorum içeriğine verilen başlık, kısa yorum\n",
    "\n",
    "**Review:** Ürüne yapılan yorum"
   ]
  },
  {
   "cell_type": "markdown",
   "id": "2fd967b1",
   "metadata": {},
   "source": [
    "#### Görev 1: Metin Ön İşleme"
   ]
  },
  {
   "cell_type": "markdown",
   "id": "8cfc01f0",
   "metadata": {},
   "source": [
    "**Adım 1:** amazon_kozmos_data.xlsx verisini okutunuz"
   ]
  },
  {
   "cell_type": "code",
   "execution_count": 1,
   "id": "03b86e0e",
   "metadata": {},
   "outputs": [
    {
     "data": {
      "text/html": [
       "<div>\n",
       "<style scoped>\n",
       "    .dataframe tbody tr th:only-of-type {\n",
       "        vertical-align: middle;\n",
       "    }\n",
       "\n",
       "    .dataframe tbody tr th {\n",
       "        vertical-align: top;\n",
       "    }\n",
       "\n",
       "    .dataframe thead th {\n",
       "        text-align: right;\n",
       "    }\n",
       "</style>\n",
       "<table border=\"1\" class=\"dataframe\">\n",
       "  <thead>\n",
       "    <tr style=\"text-align: right;\">\n",
       "      <th></th>\n",
       "      <th>Star</th>\n",
       "      <th>HelpFul</th>\n",
       "      <th>Title</th>\n",
       "      <th>Review</th>\n",
       "    </tr>\n",
       "  </thead>\n",
       "  <tbody>\n",
       "    <tr>\n",
       "      <th>0</th>\n",
       "      <td>5</td>\n",
       "      <td>0</td>\n",
       "      <td>looks great</td>\n",
       "      <td>Happy with it</td>\n",
       "    </tr>\n",
       "    <tr>\n",
       "      <th>1</th>\n",
       "      <td>5</td>\n",
       "      <td>0</td>\n",
       "      <td>Pattern did not align between the two panels.</td>\n",
       "      <td>Good quality material however the panels are m...</td>\n",
       "    </tr>\n",
       "    <tr>\n",
       "      <th>2</th>\n",
       "      <td>5</td>\n",
       "      <td>0</td>\n",
       "      <td>Imagery is stretched. Still fun.</td>\n",
       "      <td>Product was fun for bedroom windows.&lt;br /&gt;Imag...</td>\n",
       "    </tr>\n",
       "    <tr>\n",
       "      <th>3</th>\n",
       "      <td>5</td>\n",
       "      <td>0</td>\n",
       "      <td>Que se ven elegantes muy finas</td>\n",
       "      <td>Lo unico que me gustaria es que sean un poco ...</td>\n",
       "    </tr>\n",
       "    <tr>\n",
       "      <th>4</th>\n",
       "      <td>5</td>\n",
       "      <td>0</td>\n",
       "      <td>Wow great purchase</td>\n",
       "      <td>Great bang for the buck I can't believe the qu...</td>\n",
       "    </tr>\n",
       "  </tbody>\n",
       "</table>\n",
       "</div>"
      ],
      "text/plain": [
       "   Star  HelpFul                                          Title                                             Review\n",
       "0     5        0                                    looks great                                      Happy with it\n",
       "1     5        0  Pattern did not align between the two panels.  Good quality material however the panels are m...\n",
       "2     5        0               Imagery is stretched. Still fun.  Product was fun for bedroom windows.<br />Imag...\n",
       "3     5        0                 Que se ven elegantes muy finas   Lo unico que me gustaria es que sean un poco ...\n",
       "4     5        0                             Wow great purchase  Great bang for the buck I can't believe the qu..."
      ]
     },
     "execution_count": 1,
     "metadata": {},
     "output_type": "execute_result"
    }
   ],
   "source": [
    "# Gerekli kütüphane ve fonksiyonların kurulması\n",
    "\n",
    "import numpy as np\n",
    "import pandas as pd\n",
    "import matplotlib.pyplot as plt\n",
    "import seaborn as sns\n",
    "import nltk\n",
    "\n",
    "import warnings\n",
    "warnings.filterwarnings(\"ignore\")\n",
    "\n",
    "# !pip install nltk\n",
    "# !pip install textblob\n",
    "# !pip install wordcloud\n",
    "\n",
    "from nltk.corpus import stopwords\n",
    "from nltk.sentiment import SentimentIntensityAnalyzer\n",
    "from sklearn.ensemble import RandomForestClassifier\n",
    "from sklearn.linear_model import LogisticRegression\n",
    "from sklearn.model_selection import cross_val_score, train_test_split\n",
    "from sklearn.metrics import classification_report\n",
    "from sklearn.feature_extraction.text import TfidfVectorizer, CountVectorizer\n",
    "from textblob import Word, TextBlob\n",
    "from wordcloud import WordCloud\n",
    "\n",
    "pd.set_option('display.width', 200)\n",
    "pd.set_option('display.float_format', lambda x: '%.2f' % x)\n",
    "\n",
    "df = pd.read_excel(\"datasets/amazon_kozmos_data.xlsx\")\n",
    "\n",
    "df.head()"
   ]
  },
  {
   "cell_type": "code",
   "execution_count": 2,
   "id": "66a28950",
   "metadata": {},
   "outputs": [
    {
     "data": {
      "text/plain": [
       "(5611, 4)"
      ]
     },
     "execution_count": 2,
     "metadata": {},
     "output_type": "execute_result"
    }
   ],
   "source": [
    "df.shape"
   ]
  },
  {
   "cell_type": "code",
   "execution_count": 3,
   "id": "c90e79c6",
   "metadata": {},
   "outputs": [
    {
     "name": "stdout",
     "output_type": "stream",
     "text": [
      "<class 'pandas.core.frame.DataFrame'>\n",
      "RangeIndex: 5611 entries, 0 to 5610\n",
      "Data columns (total 4 columns):\n",
      " #   Column   Non-Null Count  Dtype \n",
      "---  ------   --------------  ----- \n",
      " 0   Star     5611 non-null   int64 \n",
      " 1   HelpFul  5611 non-null   int64 \n",
      " 2   Title    5559 non-null   object\n",
      " 3   Review   5593 non-null   object\n",
      "dtypes: int64(2), object(2)\n",
      "memory usage: 175.5+ KB\n"
     ]
    }
   ],
   "source": [
    "df.info()"
   ]
  },
  {
   "cell_type": "code",
   "execution_count": 4,
   "id": "2ef78e04",
   "metadata": {},
   "outputs": [
    {
     "data": {
      "text/html": [
       "<div>\n",
       "<style scoped>\n",
       "    .dataframe tbody tr th:only-of-type {\n",
       "        vertical-align: middle;\n",
       "    }\n",
       "\n",
       "    .dataframe tbody tr th {\n",
       "        vertical-align: top;\n",
       "    }\n",
       "\n",
       "    .dataframe thead th {\n",
       "        text-align: right;\n",
       "    }\n",
       "</style>\n",
       "<table border=\"1\" class=\"dataframe\">\n",
       "  <thead>\n",
       "    <tr style=\"text-align: right;\">\n",
       "      <th></th>\n",
       "      <th>count</th>\n",
       "      <th>mean</th>\n",
       "      <th>std</th>\n",
       "      <th>min</th>\n",
       "      <th>25%</th>\n",
       "      <th>50%</th>\n",
       "      <th>75%</th>\n",
       "      <th>max</th>\n",
       "    </tr>\n",
       "  </thead>\n",
       "  <tbody>\n",
       "    <tr>\n",
       "      <th>Star</th>\n",
       "      <td>5611.00</td>\n",
       "      <td>4.41</td>\n",
       "      <td>1.17</td>\n",
       "      <td>1.00</td>\n",
       "      <td>4.00</td>\n",
       "      <td>5.00</td>\n",
       "      <td>5.00</td>\n",
       "      <td>5.00</td>\n",
       "    </tr>\n",
       "    <tr>\n",
       "      <th>HelpFul</th>\n",
       "      <td>5611.00</td>\n",
       "      <td>0.98</td>\n",
       "      <td>4.11</td>\n",
       "      <td>0.00</td>\n",
       "      <td>0.00</td>\n",
       "      <td>0.00</td>\n",
       "      <td>1.00</td>\n",
       "      <td>124.00</td>\n",
       "    </tr>\n",
       "  </tbody>\n",
       "</table>\n",
       "</div>"
      ],
      "text/plain": [
       "          count  mean  std  min  25%  50%  75%    max\n",
       "Star    5611.00  4.41 1.17 1.00 4.00 5.00 5.00   5.00\n",
       "HelpFul 5611.00  0.98 4.11 0.00 0.00 0.00 1.00 124.00"
      ]
     },
     "execution_count": 4,
     "metadata": {},
     "output_type": "execute_result"
    }
   ],
   "source": [
    "df.describe().T # Belirli bir ürüne verilen ortalama puan: 4.41"
   ]
  },
  {
   "cell_type": "markdown",
   "id": "c3b83a57",
   "metadata": {},
   "source": [
    "**Adım 2:** Review değişkeni üzerinde ;\n",
    "\n",
    "**a.** Tüm harfleri küçük harfe çeviriniz.\n",
    "\n",
    "**b.** Noktalama işaretlerini çıkarınız.\n",
    "\n",
    "**c.** Yorumlarda bulunan sayısal ifadeleri çıkarınız.\n",
    "\n",
    "**d.** Bilgi içermeyen kelimeleri (stopwords) veriden çıkarınız.\n",
    "\n",
    "**e.** 1000'den az geçen kelimeleri veriden çıkarınız.\n",
    "\n",
    "**f.** Lemmatization işlemini uygulayınız."
   ]
  },
  {
   "cell_type": "code",
   "execution_count": 5,
   "id": "49ce29cf",
   "metadata": {},
   "outputs": [
    {
     "data": {
      "text/plain": [
       "0                                           Happy with it\n",
       "1       Good quality material however the panels are m...\n",
       "2       Product was fun for bedroom windows.<br />Imag...\n",
       "3        Lo unico que me gustaria es que sean un poco ...\n",
       "4       Great bang for the buck I can't believe the qu...\n",
       "                              ...                        \n",
       "5606    Great product for reasonable money.  Delivered...\n",
       "5607             Color is way off and panels do not match\n",
       "5608    These are great for my studio as they compleme...\n",
       "5609    Brought out the beauty in kids room. They love...\n",
       "5610    Very cute curtains in my sons room! Thick enou...\n",
       "Name: Review, Length: 5611, dtype: object"
      ]
     },
     "execution_count": 5,
     "metadata": {},
     "output_type": "execute_result"
    }
   ],
   "source": [
    "df[\"Review\"]"
   ]
  },
  {
   "cell_type": "code",
   "execution_count": 6,
   "id": "aef2015f",
   "metadata": {},
   "outputs": [],
   "source": [
    "# Normalizing Case Folding"
   ]
  },
  {
   "cell_type": "code",
   "execution_count": 7,
   "id": "9c8c3335",
   "metadata": {},
   "outputs": [
    {
     "data": {
      "text/plain": [
       "0                                           happy with it\n",
       "1       good quality material however the panels are m...\n",
       "2       product was fun for bedroom windows.<br />imag...\n",
       "3        lo unico que me gustaria es que sean un poco ...\n",
       "4       great bang for the buck i can't believe the qu...\n",
       "                              ...                        \n",
       "5606    great product for reasonable money.  delivered...\n",
       "5607             color is way off and panels do not match\n",
       "5608    these are great for my studio as they compleme...\n",
       "5609    brought out the beauty in kids room. they love...\n",
       "5610    very cute curtains in my sons room! thick enou...\n",
       "Name: Review, Length: 5611, dtype: object"
      ]
     },
     "execution_count": 7,
     "metadata": {},
     "output_type": "execute_result"
    }
   ],
   "source": [
    "df[\"Review\"] = df[\"Review\"].str.lower()\n",
    "\n",
    "df[\"Review\"]"
   ]
  },
  {
   "cell_type": "code",
   "execution_count": 8,
   "id": "dc74268f",
   "metadata": {},
   "outputs": [],
   "source": [
    "# Noktalama İşaretleri (Punctuations)"
   ]
  },
  {
   "cell_type": "code",
   "execution_count": 9,
   "id": "8c2ef4a8",
   "metadata": {},
   "outputs": [
    {
     "data": {
      "text/plain": [
       "0                                           happy with it\n",
       "1       good quality material however the panels are m...\n",
       "2       product was fun for bedroom windowsbr imagery ...\n",
       "3        lo unico que me gustaria es que sean un poco ...\n",
       "4       great bang for the buck i cant believe the qua...\n",
       "                              ...                        \n",
       "5606    great product for reasonable money  delivered ...\n",
       "5607             color is way off and panels do not match\n",
       "5608    these are great for my studio as they compleme...\n",
       "5609     brought out the beauty in kids room they love it\n",
       "5610    very cute curtains in my sons room thick enoug...\n",
       "Name: Review, Length: 5611, dtype: object"
      ]
     },
     "execution_count": 9,
     "metadata": {},
     "output_type": "execute_result"
    }
   ],
   "source": [
    "df[\"Review\"] = df[\"Review\"].str.replace(\"[^\\w\\s]\", '', regex = True)\n",
    "\n",
    "df[\"Review\"]"
   ]
  },
  {
   "cell_type": "code",
   "execution_count": 10,
   "id": "5f87d267",
   "metadata": {},
   "outputs": [],
   "source": [
    "# Numbers"
   ]
  },
  {
   "cell_type": "code",
   "execution_count": 11,
   "id": "b6ff53eb",
   "metadata": {},
   "outputs": [
    {
     "data": {
      "text/plain": [
       "0                                           happy with it\n",
       "1       good quality material however the panels are m...\n",
       "2       product was fun for bedroom windowsbr imagery ...\n",
       "3        lo unico que me gustaria es que sean un poco ...\n",
       "4       great bang for the buck i cant believe the qua...\n",
       "                              ...                        \n",
       "5606    great product for reasonable money  delivered ...\n",
       "5607             color is way off and panels do not match\n",
       "5608    these are great for my studio as they compleme...\n",
       "5609     brought out the beauty in kids room they love it\n",
       "5610    very cute curtains in my sons room thick enoug...\n",
       "Name: Review, Length: 5611, dtype: object"
      ]
     },
     "execution_count": 11,
     "metadata": {},
     "output_type": "execute_result"
    }
   ],
   "source": [
    "df[\"Review\"] = df[\"Review\"].str.replace(\"\\d\", \"\", regex = True)\n",
    "\n",
    "df[\"Review\"]"
   ]
  },
  {
   "cell_type": "code",
   "execution_count": 12,
   "id": "eb9a7587",
   "metadata": {},
   "outputs": [],
   "source": [
    "# Stopwords"
   ]
  },
  {
   "cell_type": "code",
   "execution_count": 13,
   "id": "40632c45",
   "metadata": {},
   "outputs": [],
   "source": [
    "# import nltk\n",
    "# nltk.download(\"stopwords\")"
   ]
  },
  {
   "cell_type": "code",
   "execution_count": 14,
   "id": "25ad3cac",
   "metadata": {},
   "outputs": [
    {
     "data": {
      "text/plain": [
       "['i', 'me', 'my', 'myself', 'we']"
      ]
     },
     "execution_count": 14,
     "metadata": {},
     "output_type": "execute_result"
    }
   ],
   "source": [
    "sw = stopwords.words(\"english\")\n",
    "\n",
    "sw[0:5]"
   ]
  },
  {
   "cell_type": "code",
   "execution_count": 15,
   "id": "cc1cd2e5",
   "metadata": {},
   "outputs": [
    {
     "data": {
      "text/plain": [
       "179"
      ]
     },
     "execution_count": 15,
     "metadata": {},
     "output_type": "execute_result"
    }
   ],
   "source": [
    "len(sw)"
   ]
  },
  {
   "cell_type": "code",
   "execution_count": 16,
   "id": "6f93f20d",
   "metadata": {},
   "outputs": [
    {
     "data": {
      "text/plain": [
       "0                                                   happy\n",
       "1         good quality material however panels mismatched\n",
       "2       product fun bedroom windowsbr imagery bit stre...\n",
       "3       lo unico que gustaria es que sean un poco mas ...\n",
       "4       great bang buck cant believe quality material ...\n",
       "                              ...                        \n",
       "5606    great product reasonable money delivered quick...\n",
       "5607                               color way panels match\n",
       "5608    great studio complement entire theme studioliv...\n",
       "5609                        brought beauty kids room love\n",
       "5610      cute curtains sons room thick enough keep light\n",
       "Name: Review, Length: 5611, dtype: object"
      ]
     },
     "execution_count": 16,
     "metadata": {},
     "output_type": "execute_result"
    }
   ],
   "source": [
    "df[\"Review\"] = df[\"Review\"].apply(lambda x: \" \".join(x for x in str(x).split() if x not in sw))\n",
    "\n",
    "df[\"Review\"]"
   ]
  },
  {
   "cell_type": "code",
   "execution_count": 17,
   "id": "7fbab5d2",
   "metadata": {},
   "outputs": [],
   "source": [
    "# Rare Words / Custom Words"
   ]
  },
  {
   "cell_type": "code",
   "execution_count": 18,
   "id": "6e99c8a0",
   "metadata": {},
   "outputs": [
    {
     "data": {
      "text/plain": [
       "0                                                   happy\n",
       "1         good quality material however panels mismatched\n",
       "2       product fun bedroom windowsbr imagery bit stre...\n",
       "3       lo unico que gustaria es que sean un poco mas ...\n",
       "4       great bang buck cant believe quality material ...\n",
       "                              ...                        \n",
       "5606    great product reasonable money delivered quick...\n",
       "5607                               color way panels match\n",
       "5608    great studio complement entire theme area phot...\n",
       "5609                        brought beauty kids room love\n",
       "5610      cute curtains sons room thick enough keep light\n",
       "Name: Review, Length: 5611, dtype: object"
      ]
     },
     "execution_count": 18,
     "metadata": {},
     "output_type": "execute_result"
    }
   ],
   "source": [
    "sil = pd.Series(' '.join(df[\"Review\"]).split()).value_counts()[-1000:]\n",
    "\n",
    "df[\"Review\"] = df[\"Review\"].apply(lambda x: \" \".join(x for x in x.split() if x not in sil))\n",
    "\n",
    "df[\"Review\"]"
   ]
  },
  {
   "cell_type": "code",
   "execution_count": 19,
   "id": "f48652ac",
   "metadata": {},
   "outputs": [],
   "source": [
    "# Lemmatization"
   ]
  },
  {
   "cell_type": "code",
   "execution_count": 20,
   "id": "dac98c98",
   "metadata": {},
   "outputs": [],
   "source": [
    "# nltk.download('wordnet')"
   ]
  },
  {
   "cell_type": "code",
   "execution_count": 21,
   "id": "2bf81f48",
   "metadata": {},
   "outputs": [
    {
     "data": {
      "text/plain": [
       "0                                                happy\n",
       "1       good quality material however panel mismatched\n",
       "2    product fun bedroom windowsbr imagery bit stre...\n",
       "3    lo unico que gustaria e que sean un poco ma la...\n",
       "4    great bang buck cant believe quality material ...\n",
       "5                                 look different photo\n",
       "6    exactly looking heavy material great price shi...\n",
       "7    looking picture thought curtain would thinner ...\n",
       "8    much whiter thought would wasnt really expecti...\n",
       "9    curtain picture show rd set ambesonne curtain ...\n",
       "Name: Review, dtype: object"
      ]
     },
     "execution_count": 21,
     "metadata": {},
     "output_type": "execute_result"
    }
   ],
   "source": [
    "df[\"Review\"] = df[\"Review\"].apply(lambda x: \" \".join([Word(word).lemmatize() for word in x.split()]))\n",
    "\n",
    "df[\"Review\"].head(10)"
   ]
  },
  {
   "cell_type": "markdown",
   "id": "ca665ba9",
   "metadata": {},
   "source": [
    "#### Görev 2: Metin Görselleştirme"
   ]
  },
  {
   "cell_type": "markdown",
   "id": "8d7324fb",
   "metadata": {},
   "source": [
    "**Adım 1:** Barplot görselleştirme işlemi için; \n",
    "\n",
    "**a.** \"Review\" değişkeninin içerdiği kelimelerin frekanslarını hesaplayınız, tf olarak kaydediniz.\n",
    "\n",
    "**b.** tf dataframe'inin sütunlarını yeniden adlandırınız: \"words\", \"tf\" şeklinde\n",
    "\n",
    "**c.** \"tf\" değişkeninin değeri 500'den çok olanlara göre filtreleme işlemi yaparak barplot ile görselleştirme işlemini tamamlayınız."
   ]
  },
  {
   "cell_type": "code",
   "execution_count": 22,
   "id": "fa827271",
   "metadata": {},
   "outputs": [
    {
     "data": {
      "text/html": [
       "<div>\n",
       "<style scoped>\n",
       "    .dataframe tbody tr th:only-of-type {\n",
       "        vertical-align: middle;\n",
       "    }\n",
       "\n",
       "    .dataframe tbody tr th {\n",
       "        vertical-align: top;\n",
       "    }\n",
       "\n",
       "    .dataframe thead th {\n",
       "        text-align: right;\n",
       "    }\n",
       "</style>\n",
       "<table border=\"1\" class=\"dataframe\">\n",
       "  <thead>\n",
       "    <tr style=\"text-align: right;\">\n",
       "      <th></th>\n",
       "      <th>index</th>\n",
       "      <th>0</th>\n",
       "    </tr>\n",
       "  </thead>\n",
       "  <tbody>\n",
       "    <tr>\n",
       "      <th>0</th>\n",
       "      <td>happy</td>\n",
       "      <td>196.00</td>\n",
       "    </tr>\n",
       "    <tr>\n",
       "      <th>1</th>\n",
       "      <td>good</td>\n",
       "      <td>535.00</td>\n",
       "    </tr>\n",
       "    <tr>\n",
       "      <th>2</th>\n",
       "      <td>quality</td>\n",
       "      <td>889.00</td>\n",
       "    </tr>\n",
       "    <tr>\n",
       "      <th>3</th>\n",
       "      <td>material</td>\n",
       "      <td>565.00</td>\n",
       "    </tr>\n",
       "    <tr>\n",
       "      <th>4</th>\n",
       "      <td>however</td>\n",
       "      <td>78.00</td>\n",
       "    </tr>\n",
       "    <tr>\n",
       "      <th>...</th>\n",
       "      <td>...</td>\n",
       "      <td>...</td>\n",
       "    </tr>\n",
       "    <tr>\n",
       "      <th>5259</th>\n",
       "      <td>relatively</td>\n",
       "      <td>1.00</td>\n",
       "    </tr>\n",
       "    <tr>\n",
       "      <th>5260</th>\n",
       "      <td>crispbr</td>\n",
       "      <td>1.00</td>\n",
       "    </tr>\n",
       "    <tr>\n",
       "      <th>5261</th>\n",
       "      <td>wfh</td>\n",
       "      <td>1.00</td>\n",
       "    </tr>\n",
       "    <tr>\n",
       "      <th>5262</th>\n",
       "      <td>gamers</td>\n",
       "      <td>1.00</td>\n",
       "    </tr>\n",
       "    <tr>\n",
       "      <th>5263</th>\n",
       "      <td>sm</td>\n",
       "      <td>1.00</td>\n",
       "    </tr>\n",
       "  </tbody>\n",
       "</table>\n",
       "<p>5264 rows × 2 columns</p>\n",
       "</div>"
      ],
      "text/plain": [
       "           index      0\n",
       "0          happy 196.00\n",
       "1           good 535.00\n",
       "2        quality 889.00\n",
       "3       material 565.00\n",
       "4        however  78.00\n",
       "...          ...    ...\n",
       "5259  relatively   1.00\n",
       "5260     crispbr   1.00\n",
       "5261         wfh   1.00\n",
       "5262      gamers   1.00\n",
       "5263          sm   1.00\n",
       "\n",
       "[5264 rows x 2 columns]"
      ]
     },
     "execution_count": 22,
     "metadata": {},
     "output_type": "execute_result"
    }
   ],
   "source": [
    "tf = df[\"Review\"].apply(lambda x: pd.value_counts(x.split(\" \"))).sum(axis = 0).reset_index()\n",
    "\n",
    "tf"
   ]
  },
  {
   "cell_type": "code",
   "execution_count": 23,
   "id": "f9946111",
   "metadata": {},
   "outputs": [
    {
     "data": {
      "text/html": [
       "<div>\n",
       "<style scoped>\n",
       "    .dataframe tbody tr th:only-of-type {\n",
       "        vertical-align: middle;\n",
       "    }\n",
       "\n",
       "    .dataframe tbody tr th {\n",
       "        vertical-align: top;\n",
       "    }\n",
       "\n",
       "    .dataframe thead th {\n",
       "        text-align: right;\n",
       "    }\n",
       "</style>\n",
       "<table border=\"1\" class=\"dataframe\">\n",
       "  <thead>\n",
       "    <tr style=\"text-align: right;\">\n",
       "      <th></th>\n",
       "      <th>words</th>\n",
       "      <th>tf</th>\n",
       "    </tr>\n",
       "  </thead>\n",
       "  <tbody>\n",
       "    <tr>\n",
       "      <th>0</th>\n",
       "      <td>happy</td>\n",
       "      <td>196.00</td>\n",
       "    </tr>\n",
       "    <tr>\n",
       "      <th>1</th>\n",
       "      <td>good</td>\n",
       "      <td>535.00</td>\n",
       "    </tr>\n",
       "    <tr>\n",
       "      <th>2</th>\n",
       "      <td>quality</td>\n",
       "      <td>889.00</td>\n",
       "    </tr>\n",
       "    <tr>\n",
       "      <th>3</th>\n",
       "      <td>material</td>\n",
       "      <td>565.00</td>\n",
       "    </tr>\n",
       "    <tr>\n",
       "      <th>4</th>\n",
       "      <td>however</td>\n",
       "      <td>78.00</td>\n",
       "    </tr>\n",
       "    <tr>\n",
       "      <th>...</th>\n",
       "      <td>...</td>\n",
       "      <td>...</td>\n",
       "    </tr>\n",
       "    <tr>\n",
       "      <th>5259</th>\n",
       "      <td>relatively</td>\n",
       "      <td>1.00</td>\n",
       "    </tr>\n",
       "    <tr>\n",
       "      <th>5260</th>\n",
       "      <td>crispbr</td>\n",
       "      <td>1.00</td>\n",
       "    </tr>\n",
       "    <tr>\n",
       "      <th>5261</th>\n",
       "      <td>wfh</td>\n",
       "      <td>1.00</td>\n",
       "    </tr>\n",
       "    <tr>\n",
       "      <th>5262</th>\n",
       "      <td>gamers</td>\n",
       "      <td>1.00</td>\n",
       "    </tr>\n",
       "    <tr>\n",
       "      <th>5263</th>\n",
       "      <td>sm</td>\n",
       "      <td>1.00</td>\n",
       "    </tr>\n",
       "  </tbody>\n",
       "</table>\n",
       "<p>5264 rows × 2 columns</p>\n",
       "</div>"
      ],
      "text/plain": [
       "           words     tf\n",
       "0          happy 196.00\n",
       "1           good 535.00\n",
       "2        quality 889.00\n",
       "3       material 565.00\n",
       "4        however  78.00\n",
       "...          ...    ...\n",
       "5259  relatively   1.00\n",
       "5260     crispbr   1.00\n",
       "5261         wfh   1.00\n",
       "5262      gamers   1.00\n",
       "5263          sm   1.00\n",
       "\n",
       "[5264 rows x 2 columns]"
      ]
     },
     "execution_count": 23,
     "metadata": {},
     "output_type": "execute_result"
    }
   ],
   "source": [
    "tf.columns = [\"words\", \"tf\"]\n",
    "\n",
    "tf"
   ]
  },
  {
   "cell_type": "code",
   "execution_count": 24,
   "id": "cfdcef6d",
   "metadata": {},
   "outputs": [
    {
     "data": {
      "image/png": "[encoded data removed]",
      "text/plain": [
       "<Figure size 640x480 with 1 Axes>"
      ]
     },
     "metadata": {},
     "output_type": "display_data"
    }
   ],
   "source": [
    "tf[tf[\"tf\"] > 500].plot.bar(x = \"words\", y = \"tf\")\n",
    "\n",
    "plt.show()"
   ]
  },
  {
   "cell_type": "markdown",
   "id": "5cf01778",
   "metadata": {},
   "source": [
    "**Adım 2:** WordCloud görselleştirme işlemi için; \n",
    "\n",
    "**a.** \"Review\" değişkeninin içerdiği tüm kelimeleri \"text\" isminde string olarak kaydediniz.\n",
    "\n",
    "**b.** WordCloud kullanarak şablon şeklinizi belirleyip kaydediniz.\n",
    "\n",
    "**c.** Kaydettiğiniz wordcloud'u ilk adımda oluşturduğunuz string ile generate ediniz.\n",
    "\n",
    "**d.** Görselleştirme adımlarını tamamlayınız. (figure, imshow, axis, show)"
   ]
  },
  {
   "cell_type": "code",
   "execution_count": 25,
   "id": "f235b1bb",
   "metadata": {},
   "outputs": [],
   "source": [
    "text = \" \".join(i for i in df.Review)"
   ]
  },
  {
   "cell_type": "code",
   "execution_count": 26,
   "id": "a4ecb238",
   "metadata": {},
   "outputs": [
    {
     "data": {
      "image/png": "[encoded data removed]",
      "text/plain": [
       "<Figure size 640x480 with 1 Axes>"
      ]
     },
     "metadata": {},
     "output_type": "display_data"
    }
   ],
   "source": [
    "wordcloud = WordCloud(max_font_size = 50,\n",
    "                      max_words = 100,\n",
    "                      background_color = \"white\").generate(text)\n",
    "\n",
    "plt.figure()\n",
    "plt.imshow(wordcloud, interpolation = \"bilinear\")\n",
    "plt.axis(\"off\")\n",
    "plt.show()"
   ]
  },
  {
   "cell_type": "markdown",
   "id": "39e66dcd",
   "metadata": {},
   "source": [
    "#### Görev 3: Duygu Analizi"
   ]
  },
  {
   "cell_type": "markdown",
   "id": "9d1ebe06",
   "metadata": {},
   "source": [
    "**Adım 1:** Python içerisindeki NLTK paketinde tanımlanmış olan SentimentIntensityAnalyzer nesnesini oluşturunuz."
   ]
  },
  {
   "cell_type": "code",
   "execution_count": 27,
   "id": "f728ce86",
   "metadata": {},
   "outputs": [],
   "source": [
    "sia = SentimentIntensityAnalyzer()"
   ]
  },
  {
   "cell_type": "markdown",
   "id": "f173262b",
   "metadata": {},
   "source": [
    "**Adım 2:** SentimentIntensityAnalyzer nesnesi ile polarite puanlarını inceleyiniz;\n",
    "\n",
    "**a.** \"Review\" değişkeninin ilk 10 gözlemi için polarity_scores() hesaplayınız.\n",
    "\n",
    "**b.** İncelenen ilk 10 gözlem için compund skorlarına göre filtreleyerek tekrar gözlemleyiniz.\n",
    "\n",
    "**c.** 10 gözlem için compound skorları 0'dan büyükse \"pos\" değilse \"neg\" şeklinde güncelleyiniz.\n",
    "\n",
    "**d.** \"Review\" değişkenindeki tüm gözlemler için pos-neg atamasını yaparak yeni bir değişken olarak dataframe'e\n",
    "ekleyiniz."
   ]
  },
  {
   "cell_type": "code",
   "execution_count": 28,
   "id": "dffc43f1",
   "metadata": {},
   "outputs": [
    {
     "data": {
      "text/plain": [
       "0    {'neg': 0.0, 'neu': 0.0, 'pos': 1.0, 'compound...\n",
       "1    {'neg': 0.0, 'neu': 0.633, 'pos': 0.367, 'comp...\n",
       "2    {'neg': 0.0, 'neu': 0.647, 'pos': 0.353, 'comp...\n",
       "3    {'neg': 0.0, 'neu': 1.0, 'pos': 0.0, 'compound...\n",
       "4    {'neg': 0.0, 'neu': 0.517, 'pos': 0.483, 'comp...\n",
       "5    {'neg': 0.0, 'neu': 1.0, 'pos': 0.0, 'compound...\n",
       "6    {'neg': 0.0, 'neu': 0.631, 'pos': 0.369, 'comp...\n",
       "7    {'neg': 0.0, 'neu': 0.578, 'pos': 0.422, 'comp...\n",
       "8    {'neg': 0.0, 'neu': 1.0, 'pos': 0.0, 'compound...\n",
       "9    {'neg': 0.0, 'neu': 0.772, 'pos': 0.228, 'comp...\n",
       "Name: Review, dtype: object"
      ]
     },
     "execution_count": 28,
     "metadata": {},
     "output_type": "execute_result"
    }
   ],
   "source": [
    "df[\"Review\"][0:10].apply(lambda x: sia.polarity_scores(x))"
   ]
  },
  {
   "cell_type": "code",
   "execution_count": 29,
   "id": "ab24f93d",
   "metadata": {},
   "outputs": [
    {
     "data": {
      "text/plain": [
       "0   0.57\n",
       "1   0.44\n",
       "2   0.72\n",
       "3   0.00\n",
       "4   0.90\n",
       "5   0.00\n",
       "6   0.62\n",
       "7   0.91\n",
       "8   0.00\n",
       "9   0.71\n",
       "Name: Review, dtype: float64"
      ]
     },
     "execution_count": 29,
     "metadata": {},
     "output_type": "execute_result"
    }
   ],
   "source": [
    "df[\"Review\"][0:10].apply(lambda x: sia.polarity_scores(x)[\"compound\"])"
   ]
  },
  {
   "cell_type": "code",
   "execution_count": 30,
   "id": "ddf781e3",
   "metadata": {},
   "outputs": [
    {
     "data": {
      "text/plain": [
       "0    pos\n",
       "1    pos\n",
       "2    pos\n",
       "3    neg\n",
       "4    pos\n",
       "5    neg\n",
       "6    pos\n",
       "7    pos\n",
       "8    neg\n",
       "9    pos\n",
       "Name: Review, dtype: object"
      ]
     },
     "execution_count": 30,
     "metadata": {},
     "output_type": "execute_result"
    }
   ],
   "source": [
    "df[\"Review\"][0:10].apply(lambda x: \"pos\" if sia.polarity_scores(x)[\"compound\"] > 0 else \"neg\")"
   ]
  },
  {
   "cell_type": "code",
   "execution_count": 31,
   "id": "3a9aaf42",
   "metadata": {},
   "outputs": [],
   "source": [
    "df[\"Sentiment_Label\"] = df[\"Review\"].apply(lambda x: \"pos\" if sia.polarity_scores(x)[\"compound\"] > 0 else \"neg\")"
   ]
  },
  {
   "cell_type": "code",
   "execution_count": 32,
   "id": "f5a25c84",
   "metadata": {},
   "outputs": [
    {
     "data": {
      "text/plain": [
       "Sentiment_Label\n",
       "neg   3.39\n",
       "pos   4.59\n",
       "Name: Star, dtype: float64"
      ]
     },
     "execution_count": 32,
     "metadata": {},
     "output_type": "execute_result"
    }
   ],
   "source": [
    "df.groupby(\"Sentiment_Label\")[\"Star\"].mean()"
   ]
  },
  {
   "cell_type": "code",
   "execution_count": 33,
   "id": "0d390620",
   "metadata": {},
   "outputs": [],
   "source": [
    "# NOT:SentimentIntensityAnalyzer ile yorumları etiketleyerek, yorum sınıflandırma makine öğrenmesi modeli için bağımlı değişken oluşturulmuş oldu."
   ]
  },
  {
   "cell_type": "markdown",
   "id": "4420b51c",
   "metadata": {},
   "source": [
    "#### Görev 4: Makine Öğrenmesine Hazırlık"
   ]
  },
  {
   "cell_type": "markdown",
   "id": "1dcee2fc",
   "metadata": {},
   "source": [
    "**Adım 1:** Bağımlı ve bağımsız değişkenlerimizi belirleyerek datayı train test olarak ayırınız."
   ]
  },
  {
   "cell_type": "code",
   "execution_count": 34,
   "id": "b09af224",
   "metadata": {},
   "outputs": [],
   "source": [
    "# Test-Train\n",
    "\n",
    "train_x, test_x, train_y, test_y = train_test_split(df[\"Review\"],\n",
    "                                                    df[\"Sentiment_Label\"],\n",
    "                                                    random_state = 42)"
   ]
  },
  {
   "cell_type": "markdown",
   "id": "3e47e048",
   "metadata": {},
   "source": [
    "**Adım 2:** Makine öğrenmesi modeline verileri verebilmemiz için temsil şekillerini sayısala çevirmemiz gerekmekte;\n",
    "\n",
    "**a.** TfidfVectorizer kullanarak bir nesne oluşturunuz.\n",
    "\n",
    "**b.** Daha önce ayırmış olduğumuz train datamızı kullanarak oluşturduğumuz nesneye fit ediniz.\n",
    "\n",
    "**c.** Oluşturmuş olduğumuz vektörü train ve test datalarına transform işlemini uygulayıp kaydediniz."
   ]
  },
  {
   "cell_type": "code",
   "execution_count": 35,
   "id": "b7128db9",
   "metadata": {},
   "outputs": [],
   "source": [
    "# TF-IDF Word Level\n",
    "\n",
    "tf_idf_word_vectorizer = TfidfVectorizer().fit(train_x)\n",
    "x_train_tf_idf_word = tf_idf_word_vectorizer.transform(train_x)\n",
    "x_test_tf_idf_word = tf_idf_word_vectorizer.transform(test_x)"
   ]
  },
  {
   "cell_type": "markdown",
   "id": "2381e76d",
   "metadata": {},
   "source": [
    "#### Görev 5: Modelleme (Lojistik Regresyon)"
   ]
  },
  {
   "cell_type": "markdown",
   "id": "98cff12b",
   "metadata": {},
   "source": [
    "**Adım 1:** Lojistik regresyon modelini kurarak train dataları ile fit ediniz."
   ]
  },
  {
   "cell_type": "code",
   "execution_count": 36,
   "id": "30ddd9b8",
   "metadata": {},
   "outputs": [],
   "source": [
    "log_model = LogisticRegression().fit(x_train_tf_idf_word, train_y)"
   ]
  },
  {
   "cell_type": "markdown",
   "id": "e7b19d39",
   "metadata": {},
   "source": [
    "**Adım 2:** Kurmuş olduğunuz model ile tahmin işlemleri gerçekleştiriniz;\n",
    "\n",
    "**a.** Predict fonksiyonu ile test datasını tahmin ederek kaydediniz.\n",
    "\n",
    "**b.** classification_report ile tahmin sonuçlarınızı raporlayıp gözlemleyiniz.\n",
    "\n",
    "**c.** cross validation fonksiyonunu kullanarak ortalama accuracy değerini hesaplayınız."
   ]
  },
  {
   "cell_type": "code",
   "execution_count": 37,
   "id": "8292c80e",
   "metadata": {},
   "outputs": [],
   "source": [
    "y_pred = log_model.predict(x_test_tf_idf_word)"
   ]
  },
  {
   "cell_type": "code",
   "execution_count": 38,
   "id": "b50107c6",
   "metadata": {},
   "outputs": [
    {
     "name": "stdout",
     "output_type": "stream",
     "text": [
      "              precision    recall  f1-score   support\n",
      "\n",
      "         neg       0.33      0.90      0.49        82\n",
      "         pos       0.99      0.89      0.94      1321\n",
      "\n",
      "    accuracy                           0.89      1403\n",
      "   macro avg       0.66      0.89      0.71      1403\n",
      "weighted avg       0.95      0.89      0.91      1403\n",
      "\n"
     ]
    }
   ],
   "source": [
    "print(classification_report(y_pred, test_y))"
   ]
  },
  {
   "cell_type": "code",
   "execution_count": 39,
   "id": "9e7b976a",
   "metadata": {},
   "outputs": [
    {
     "data": {
      "text/plain": [
       "0.8546034570411795"
      ]
     },
     "execution_count": 39,
     "metadata": {},
     "output_type": "execute_result"
    }
   ],
   "source": [
    "cross_val_score(log_model, x_test_tf_idf_word, test_y, cv = 5).mean()"
   ]
  },
  {
   "cell_type": "markdown",
   "id": "0ae92df5",
   "metadata": {},
   "source": [
    "**Adım 3:** Veride bulunan yorumlardan ratgele seçerek modele sorulması;\n",
    "\n",
    "**a.** sample fonksiyonu ile \"Review\" değişkeni içerisinden örneklem seçerek yeni bir değere atayınız.\n",
    "\n",
    "**b.** Elde ettiğiniz örneklemi modelin tahmin edebilmesi için CountVectorizer ile vektörleştiriniz.\n",
    "\n",
    "**c.** Vektörleştirdiğiniz örneklemi fit ve transform işlemlerini yaparak kaydediniz.\n",
    "\n",
    "**d.** Kurmuş olduğunuz modele örneklemi vererek tahmin sonucunu kaydediniz.\n",
    "\n",
    "**e.** Örneklemi ve tahmin sonucunu ekrana yazdırınız."
   ]
  },
  {
   "cell_type": "code",
   "execution_count": 40,
   "id": "fb7612bd",
   "metadata": {},
   "outputs": [],
   "source": [
    "random_review = pd.Series(df[\"Review\"].sample(1).values)"
   ]
  },
  {
   "cell_type": "code",
   "execution_count": 41,
   "id": "da66ef38",
   "metadata": {},
   "outputs": [],
   "source": [
    "yeni_yorum = CountVectorizer().fit(train_x).transform(random_review)"
   ]
  },
  {
   "cell_type": "code",
   "execution_count": 42,
   "id": "79ea11aa",
   "metadata": {},
   "outputs": [],
   "source": [
    "pred = log_model.predict(yeni_yorum)"
   ]
  },
  {
   "cell_type": "code",
   "execution_count": 43,
   "id": "e03110ba",
   "metadata": {},
   "outputs": [
    {
     "name": "stdout",
     "output_type": "stream",
     "text": [
      "Review:  look great functional great price brwill buy \n",
      " Prediction: ['pos']\n"
     ]
    }
   ],
   "source": [
    "print(f'Review:  {random_review[0]} \\n Prediction: {pred}')"
   ]
  },
  {
   "cell_type": "markdown",
   "id": "0583025d",
   "metadata": {},
   "source": [
    "#### Görev 6: Modelleme (Random Forest)"
   ]
  },
  {
   "cell_type": "markdown",
   "id": "8df381f7",
   "metadata": {},
   "source": [
    "**Adım 1:** Random Forest modeli ile tahmin sonuçlarının gözlenmesi;\n",
    "\n",
    "**a.** RandomForestClassifier modelini kurup fit ediniz.\n",
    "\n",
    "**b.** Cross validation fonksiyonunu kullanarak ortalama accuracy değerini hesaplayınız.\n",
    "\n",
    "**c.** Lojistik regresyon modeli ile sonuçları karşılaştırınız.\n"
   ]
  },
  {
   "cell_type": "code",
   "execution_count": 44,
   "id": "85462a6d",
   "metadata": {},
   "outputs": [],
   "source": [
    "rf_model = RandomForestClassifier().fit(x_train_tf_idf_word, train_y)"
   ]
  },
  {
   "cell_type": "code",
   "execution_count": 45,
   "id": "bf7464a3",
   "metadata": {},
   "outputs": [
    {
     "data": {
      "text/plain": [
       "0.8902313167259785"
      ]
     },
     "execution_count": 45,
     "metadata": {},
     "output_type": "execute_result"
    }
   ],
   "source": [
    "cross_val_score(rf_model, x_test_tf_idf_word, test_y, cv = 5, n_jobs = -1).mean()"
   ]
  },
  {
   "cell_type": "markdown",
   "id": "cabf1e6b",
   "metadata": {},
   "source": [
    "Random Forest Classifier algoritmasının başarısı, lojistik regresyondan bir tık yüksektir. "
   ]
  },
  {
   "cell_type": "code",
   "execution_count": null,
   "id": "c6af2eee",
   "metadata": {},
   "outputs": [],
   "source": []
  }
 ],
 "metadata": {
  "kernelspec": {
   "display_name": "Python 3 (ipykernel)",
   "language": "python",
   "name": "python3"
  },
  "language_info": {
   "codemirror_mode": {
    "name": "ipython",
    "version": 3
   },
   "file_extension": ".py",
   "mimetype": "text/x-python",
   "name": "python",
   "nbconvert_exporter": "python",
   "pygments_lexer": "ipython3",
   "version": "3.11.3"
  }
 },
 "nbformat": 4,
 "nbformat_minor": 5
}
